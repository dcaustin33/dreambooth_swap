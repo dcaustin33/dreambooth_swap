{
 "cells": [
  {
   "cell_type": "code",
   "execution_count": 1,
   "metadata": {},
   "outputs": [
    {
     "name": "stdout",
     "output_type": "stream",
     "text": [
      "Collecting git+https://github.com/huggingface/diffusers\n",
      "  Cloning https://github.com/huggingface/diffusers to /private/var/folders/5t/lqp_tbx57bl8lb0cbbxb2sv80000gn/T/pip-req-build-gwu_5z06\n",
      "  Running command git clone --filter=blob:none --quiet https://github.com/huggingface/diffusers /private/var/folders/5t/lqp_tbx57bl8lb0cbbxb2sv80000gn/T/pip-req-build-gwu_5z06\n",
      "  Resolved https://github.com/huggingface/diffusers to commit c42f6ee43e0408c5fe8a1d3dc3cdeb9eb3a02fa6\n",
      "  Installing build dependencies ... \u001b[?25ldone\n",
      "\u001b[?25h  Getting requirements to build wheel ... \u001b[?25ldone\n",
      "\u001b[?25h  Preparing metadata (pyproject.toml) ... \u001b[?25ldone\n",
      "\u001b[?25hRequirement already satisfied: huggingface-hub>=0.13.2 in ./.venv/lib/python3.10/site-packages (from diffusers==0.18.0.dev0) (0.15.1)\n",
      "Requirement already satisfied: Pillow in ./.venv/lib/python3.10/site-packages (from diffusers==0.18.0.dev0) (9.5.0)\n",
      "Requirement already satisfied: regex!=2019.12.17 in ./.venv/lib/python3.10/site-packages (from diffusers==0.18.0.dev0) (2023.6.3)\n",
      "Requirement already satisfied: requests in ./.venv/lib/python3.10/site-packages (from diffusers==0.18.0.dev0) (2.31.0)\n",
      "Requirement already satisfied: filelock in ./.venv/lib/python3.10/site-packages (from diffusers==0.18.0.dev0) (3.12.0)\n",
      "Collecting importlib-metadata\n",
      "  Using cached importlib_metadata-6.6.0-py3-none-any.whl (22 kB)\n",
      "Requirement already satisfied: numpy in ./.venv/lib/python3.10/site-packages (from diffusers==0.18.0.dev0) (1.24.3)\n",
      "Requirement already satisfied: pyyaml>=5.1 in ./.venv/lib/python3.10/site-packages (from huggingface-hub>=0.13.2->diffusers==0.18.0.dev0) (6.0)\n",
      "Requirement already satisfied: packaging>=20.9 in ./.venv/lib/python3.10/site-packages (from huggingface-hub>=0.13.2->diffusers==0.18.0.dev0) (23.1)\n",
      "Requirement already satisfied: typing-extensions>=3.7.4.3 in ./.venv/lib/python3.10/site-packages (from huggingface-hub>=0.13.2->diffusers==0.18.0.dev0) (4.6.3)\n",
      "Requirement already satisfied: tqdm>=4.42.1 in ./.venv/lib/python3.10/site-packages (from huggingface-hub>=0.13.2->diffusers==0.18.0.dev0) (4.65.0)\n",
      "Requirement already satisfied: fsspec in ./.venv/lib/python3.10/site-packages (from huggingface-hub>=0.13.2->diffusers==0.18.0.dev0) (2023.5.0)\n",
      "Collecting zipp>=0.5\n",
      "  Using cached zipp-3.15.0-py3-none-any.whl (6.8 kB)\n",
      "Requirement already satisfied: idna<4,>=2.5 in ./.venv/lib/python3.10/site-packages (from requests->diffusers==0.18.0.dev0) (3.4)\n",
      "Requirement already satisfied: certifi>=2017.4.17 in ./.venv/lib/python3.10/site-packages (from requests->diffusers==0.18.0.dev0) (2023.5.7)\n",
      "Requirement already satisfied: urllib3<3,>=1.21.1 in ./.venv/lib/python3.10/site-packages (from requests->diffusers==0.18.0.dev0) (1.26.16)\n",
      "Requirement already satisfied: charset-normalizer<4,>=2 in ./.venv/lib/python3.10/site-packages (from requests->diffusers==0.18.0.dev0) (3.1.0)\n",
      "Building wheels for collected packages: diffusers\n",
      "  Building wheel for diffusers (pyproject.toml) ... \u001b[?25ldone\n",
      "\u001b[?25h  Created wheel for diffusers: filename=diffusers-0.18.0.dev0-py3-none-any.whl size=1081907 sha256=d208a2eab8b91269249585e2c991f22b6aae6e3c9098f59d5f9d771b8d8f5f11\n",
      "  Stored in directory: /private/var/folders/5t/lqp_tbx57bl8lb0cbbxb2sv80000gn/T/pip-ephem-wheel-cache-mweojdtu/wheels/f7/7d/99/d361489e5762e3464b3811bc629e94cf5bf5ef44dd5c3c4d52\n",
      "Successfully built diffusers\n",
      "Installing collected packages: zipp, importlib-metadata, diffusers\n",
      "Successfully installed diffusers-0.18.0.dev0 importlib-metadata-6.6.0 zipp-3.15.0\n",
      "\n",
      "\u001b[1m[\u001b[0m\u001b[34;49mnotice\u001b[0m\u001b[1;39;49m]\u001b[0m\u001b[39;49m A new release of pip available: \u001b[0m\u001b[31;49m22.3.1\u001b[0m\u001b[39;49m -> \u001b[0m\u001b[32;49m23.1.2\u001b[0m\n",
      "\u001b[1m[\u001b[0m\u001b[34;49mnotice\u001b[0m\u001b[1;39;49m]\u001b[0m\u001b[39;49m To update, run: \u001b[0m\u001b[32;49mpip install --upgrade pip\u001b[0m\n"
     ]
    },
    {
     "name": "stderr",
     "output_type": "stream",
     "text": [
      "/Users/derek/Desktop/dreambooth/.venv/lib/python3.10/site-packages/tqdm/auto.py:21: TqdmWarning: IProgress not found. Please update jupyter and ipywidgets. See https://ipywidgets.readthedocs.io/en/stable/user_install.html\n",
      "  from .autonotebook import tqdm as notebook_tqdm\n",
      "Fetching 5 files: 100%|██████████| 5/5 [00:00<00:00, 20.20it/s]\n"
     ]
    },
    {
     "data": {
      "text/plain": [
       "'/Users/derek/Desktop/dreambooth/dog'"
      ]
     },
     "execution_count": 1,
     "metadata": {},
     "output_type": "execute_result"
    }
   ],
   "source": [
    "! pip install git+https://github.com/huggingface/diffusers\n",
    "! pip install datasets accelerate>=0.16.0 torchvision bitsandbytes\n",
    "! pip install transformers>=4.25.1 ftfy tensorboard Jinja2 xformers\n",
    "\n",
    "from huggingface_hub import snapshot_download\n",
    "\n",
    "local_dir = \"./dog\"\n",
    "snapshot_download(\n",
    "    \"diffusers/dog-example\",\n",
    "    local_dir=local_dir,\n",
    "    repo_type=\"dataset\",\n",
    "    ignore_patterns=\".gitattributes\",\n",
    ")"
   ]
  },
  {
   "cell_type": "code",
   "execution_count": null,
   "metadata": {},
   "outputs": [],
   "source": [
    "!bash script.sh"
   ]
  },
  {
   "cell_type": "code",
   "execution_count": null,
   "metadata": {},
   "outputs": [],
   "source": [
    "# inference \n",
    "from diffusers import DiffusionPipeline\n",
    "import torch\n",
    "\n",
    "model_id = \"path_to_saved_model\"\n",
    "pipe = DiffusionPipeline.from_pretrained(model_id, torch_dtype=torch.float16).to(\"cuda\")\n"
   ]
  },
  {
   "cell_type": "code",
   "execution_count": null,
   "metadata": {},
   "outputs": [],
   "source": [
    "prompt = \"A photo of sks dog in a bucket\"\n",
    "image = pipe(prompt, num_inference_steps=50, guidance_scale=7.5).images[0]\n",
    "\n",
    "image.save(\"dog-bucket.png\")"
   ]
  }
 ],
 "metadata": {
  "kernelspec": {
   "display_name": ".venv",
   "language": "python",
   "name": "python3"
  },
  "language_info": {
   "codemirror_mode": {
    "name": "ipython",
    "version": 3
   },
   "file_extension": ".py",
   "mimetype": "text/x-python",
   "name": "python",
   "nbconvert_exporter": "python",
   "pygments_lexer": "ipython3",
   "version": "3.10.9"
  },
  "orig_nbformat": 4
 },
 "nbformat": 4,
 "nbformat_minor": 2
}
