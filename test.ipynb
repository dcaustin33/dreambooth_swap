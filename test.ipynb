{
 "cells": [
  {
   "cell_type": "code",
   "execution_count": 1,
   "metadata": {},
   "outputs": [
    {
     "name": "stdout",
     "output_type": "stream",
     "text": [
      "Looking in indexes: https://pypi.org/simple, https://download.pytorch.org/whl/nightly/cpu\n",
      "Requirement already satisfied: torch in ./.venv/lib/python3.10/site-packages (2.0.1)\n",
      "Requirement already satisfied: torchvision in ./.venv/lib/python3.10/site-packages (0.15.2)\n",
      "Requirement already satisfied: torchaudio in ./.venv/lib/python3.10/site-packages (2.0.2)\n",
      "Requirement already satisfied: networkx in ./.venv/lib/python3.10/site-packages (from torch) (3.1)\n",
      "Requirement already satisfied: jinja2 in ./.venv/lib/python3.10/site-packages (from torch) (3.1.2)\n",
      "Requirement already satisfied: sympy in ./.venv/lib/python3.10/site-packages (from torch) (1.12)\n",
      "Requirement already satisfied: filelock in ./.venv/lib/python3.10/site-packages (from torch) (3.12.0)\n",
      "Requirement already satisfied: typing-extensions in ./.venv/lib/python3.10/site-packages (from torch) (4.6.3)\n",
      "Requirement already satisfied: pillow!=8.3.*,>=5.3.0 in ./.venv/lib/python3.10/site-packages (from torchvision) (9.5.0)\n",
      "Requirement already satisfied: requests in ./.venv/lib/python3.10/site-packages (from torchvision) (2.31.0)\n",
      "Requirement already satisfied: numpy in ./.venv/lib/python3.10/site-packages (from torchvision) (1.24.3)\n",
      "Requirement already satisfied: MarkupSafe>=2.0 in ./.venv/lib/python3.10/site-packages (from jinja2->torch) (2.1.3)\n",
      "Requirement already satisfied: charset-normalizer<4,>=2 in ./.venv/lib/python3.10/site-packages (from requests->torchvision) (3.1.0)\n",
      "Requirement already satisfied: idna<4,>=2.5 in ./.venv/lib/python3.10/site-packages (from requests->torchvision) (3.4)\n",
      "Requirement already satisfied: urllib3<3,>=1.21.1 in ./.venv/lib/python3.10/site-packages (from requests->torchvision) (1.26.16)\n",
      "Requirement already satisfied: certifi>=2017.4.17 in ./.venv/lib/python3.10/site-packages (from requests->torchvision) (2023.5.7)\n",
      "Requirement already satisfied: mpmath>=0.19 in ./.venv/lib/python3.10/site-packages (from sympy->torch) (1.3.0)\n",
      "\n",
      "\u001b[1m[\u001b[0m\u001b[34;49mnotice\u001b[0m\u001b[1;39;49m]\u001b[0m\u001b[39;49m A new release of pip available: \u001b[0m\u001b[31;49m22.3.1\u001b[0m\u001b[39;49m -> \u001b[0m\u001b[32;49m23.1.2\u001b[0m\n",
      "\u001b[1m[\u001b[0m\u001b[34;49mnotice\u001b[0m\u001b[1;39;49m]\u001b[0m\u001b[39;49m To update, run: \u001b[0m\u001b[32;49mpip install --upgrade pip\u001b[0m\n"
     ]
    }
   ],
   "source": [
    "!pip3 install --pre torch torchvision torchaudio --extra-index-url https://download.pytorch.org/whl/nightly/cpu"
   ]
  },
  {
   "cell_type": "code",
   "execution_count": 2,
   "metadata": {},
   "outputs": [
    {
     "name": "stdout",
     "output_type": "stream",
     "text": [
      "tensor([1.], device='mps:0')\n"
     ]
    }
   ],
   "source": [
    "import torch\n",
    "if torch.backends.mps.is_available():\n",
    "    mps_device = torch.device(\"mps\")\n",
    "    x = torch.ones(1, device=mps_device)\n",
    "    print (x)\n",
    "else:\n",
    "    print (\"MPS device not found.\")"
   ]
  },
  {
   "cell_type": "code",
   "execution_count": 3,
   "metadata": {},
   "outputs": [],
   "source": [
    "from torch import nn\n",
    "\n",
    "class MyLayer(nn.Module):\n",
    "    \n",
    "    def __init__(self):\n",
    "        super(MyLayer, self).__init__()\n",
    "        self.fc1 = nn.Linear(100, 2000)\n",
    "        self.fc2 = nn.Linear(2000, 4000)\n",
    "        self.fc3 = nn.Linear(4000, 1000)\n",
    "        self.fc4 = nn.Linear(1000, 100)\n",
    "        self.relu = nn.ReLU()\n",
    "    \n",
    "    def forward(self, x: torch.Tensor):   \n",
    "        x = self.relu(self.fc1(x))\n",
    "        x = self.relu(self.fc2(x))\n",
    "        x = self.relu(self.fc3(x))\n",
    "        x = self.relu(self.fc4(x))\n",
    "        return x\n",
    "    \n",
    "class MyModel(nn.Module):\n",
    "    \n",
    "    def __init__(self):\n",
    "        super(MyModel, self).__init__()\n",
    "        self.layer1 = MyLayer()\n",
    "        self.layer2 = MyLayer()\n",
    "        self.layer3 = MyLayer()\n",
    "        self.layer4 = MyLayer()\n",
    "        self.layer5 = MyLayer()\n",
    "    \n",
    "    def forward(self, x: torch.Tensor):\n",
    "        x = self.layer1(x)\n",
    "        x = self.layer2(x)\n",
    "        x = self.layer3(x)\n",
    "        x = self.layer4(x)\n",
    "        x = self.layer5(x)\n",
    "        return x\n",
    "\n",
    "x = torch.randn(1000000, 100)\n"
   ]
  },
  {
   "cell_type": "code",
   "execution_count": 4,
   "metadata": {},
   "outputs": [
    {
     "ename": "",
     "evalue": "",
     "output_type": "error",
     "traceback": [
      "\u001b[1;31mCanceled future for execute_request message before replies were done"
     ]
    },
    {
     "ename": "",
     "evalue": "",
     "output_type": "error",
     "traceback": [
      "\u001b[1;31mThe Kernel crashed while executing code in the the current cell or a previous cell. Please review the code in the cell(s) to identify a possible cause of the failure. Click <a href='https://aka.ms/vscodeJupyterKernelCrash'>here</a> for more info. View Jupyter <a href='command:jupyter.viewOutput'>log</a> for further details."
     ]
    }
   ],
   "source": [
    "# time the cpu execution\n",
    "import time\n",
    "model = MyModel()\n",
    "start = time.time()\n",
    "model(x)\n",
    "end = time.time()\n",
    "print (\"CPU time: \", end - start)"
   ]
  },
  {
   "cell_type": "code",
   "execution_count": null,
   "metadata": {},
   "outputs": [
    {
     "name": "stdout",
     "output_type": "stream",
     "text": [
      "tensor([[-1.0190, -0.7741, -0.6327,  ..., -0.0260,  0.9239, -0.0504],\n",
      "        [ 1.0060, -2.4891,  0.6296,  ..., -0.1953,  0.1445, -1.0096],\n",
      "        [ 1.9329,  2.2892,  0.8806,  ...,  0.9866,  0.5983, -1.2860],\n",
      "        ...,\n",
      "        [ 0.3389, -1.5301, -1.2768,  ...,  0.4686,  1.4708, -0.6532],\n",
      "        [-0.6551,  0.7626, -0.2547,  ..., -0.5057,  1.1011,  1.2686],\n",
      "        [-2.0001, -1.0053, -0.7251,  ..., -0.0189,  0.2463,  0.0708]],\n",
      "       device='mps:0')\n",
      "MPS time:  0.3383669853210449\n"
     ]
    }
   ],
   "source": [
    "# time the mps time\n",
    "model = MyModel().to(mps_device)\n",
    "x = x.to(mps_device)\n",
    "start = time.time()\n",
    "model(x)\n",
    "print(x)\n",
    "end = time.time()\n",
    "print (\"MPS time: \", end - start)"
   ]
  },
  {
   "cell_type": "code",
   "execution_count": null,
   "metadata": {},
   "outputs": [
    {
     "name": "stdout",
     "output_type": "stream",
     "text": [
      "tensor([[-1.0190, -0.7741, -0.6327,  ..., -0.0260,  0.9239, -0.0504],\n",
      "        [ 1.0060, -2.4891,  0.6296,  ..., -0.1953,  0.1445, -1.0096],\n",
      "        [ 1.9329,  2.2892,  0.8806,  ...,  0.9866,  0.5983, -1.2860],\n",
      "        ...,\n",
      "        [ 0.3389, -1.5301, -1.2768,  ...,  0.4686,  1.4708, -0.6532],\n",
      "        [-0.6551,  0.7626, -0.2547,  ..., -0.5057,  1.1011,  1.2686],\n",
      "        [-2.0001, -1.0053, -0.7251,  ..., -0.0189,  0.2463,  0.0708]])\n",
      "CPU time:  1.1790399551391602\n"
     ]
    }
   ],
   "source": [
    "# time the cpu execution\n",
    "import time\n",
    "x = x.to(\"cpu\")\n",
    "model = MyModel()\n",
    "start = time.time()\n",
    "model(x)\n",
    "print(x)\n",
    "end = time.time()\n",
    "print (\"CPU time: \", end - start)"
   ]
  },
  {
   "cell_type": "code",
   "execution_count": null,
   "metadata": {},
   "outputs": [
    {
     "name": "stdout",
     "output_type": "stream",
     "text": [
      "tensor([[-1.0190, -0.7741, -0.6327,  ..., -0.0260,  0.9239, -0.0504],\n",
      "        [ 1.0060, -2.4891,  0.6296,  ..., -0.1953,  0.1445, -1.0096],\n",
      "        [ 1.9329,  2.2892,  0.8806,  ...,  0.9866,  0.5983, -1.2860],\n",
      "        ...,\n",
      "        [ 0.3389, -1.5301, -1.2768,  ...,  0.4686,  1.4708, -0.6532],\n",
      "        [-0.6551,  0.7626, -0.2547,  ..., -0.5057,  1.1011,  1.2686],\n",
      "        [-2.0001, -1.0053, -0.7251,  ..., -0.0189,  0.2463,  0.0708]],\n",
      "       device='mps:0')\n",
      "MPS time:  0.31161069869995117\n"
     ]
    }
   ],
   "source": [
    "# time the mps time\n",
    "model = MyModel().to(mps_device)\n",
    "x = x.to(mps_device)\n",
    "start = time.time()\n",
    "model(x)\n",
    "print(x)\n",
    "end = time.time()\n",
    "print (\"MPS time: \", end - start)"
   ]
  }
 ],
 "metadata": {
  "kernelspec": {
   "display_name": ".venv",
   "language": "python",
   "name": "python3"
  },
  "language_info": {
   "codemirror_mode": {
    "name": "ipython",
    "version": 3
   },
   "file_extension": ".py",
   "mimetype": "text/x-python",
   "name": "python",
   "nbconvert_exporter": "python",
   "pygments_lexer": "ipython3",
   "version": "3.10.9"
  },
  "orig_nbformat": 4
 },
 "nbformat": 4,
 "nbformat_minor": 2
}
